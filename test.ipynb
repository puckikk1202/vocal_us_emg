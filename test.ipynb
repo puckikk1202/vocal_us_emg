{
 "cells": [
  {
   "cell_type": "code",
   "execution_count": 1,
   "metadata": {},
   "outputs": [],
   "source": [
    "import numpy as np\n",
    "from pykalman import KalmanFilter\n",
    "import matplotlib.pyplot as plt\n",
    "\n",
    "# 示例关键点数据\n",
    "num_frames = 334\n",
    "num_keypoints = 5\n",
    "keypoints = np.cumsum(np.random.randn(num_frames, num_keypoints * 2), axis=0)  # 累积求和模拟轨迹"
   ]
  },
  {
   "cell_type": "code",
   "execution_count": 3,
   "metadata": {},
   "outputs": [],
   "source": [
    "def apply_kalman_filter(keypoints):\n",
    "    num_frames, num_coordinates = keypoints.shape\n",
    "    num_keypoints = num_coordinates // 2\n",
    "    filtered_keypoints = np.zeros_like(keypoints)\n",
    "\n",
    "    for i in range(num_keypoints):\n",
    "        # 提取第i个关键点的(x, y)坐标\n",
    "        keypoint_data = keypoints[:, i*2:(i+1)*2]\n",
    "\n",
    "        kf = KalmanFilter(\n",
    "            initial_state_mean=keypoint_data[0],\n",
    "            initial_state_covariance=np.eye(2),\n",
    "            transition_matrices=np.eye(2),\n",
    "            observation_matrices=np.eye(2),\n",
    "            transition_covariance=0.01 * np.eye(2),\n",
    "            observation_covariance=0.1 * np.eye(2)\n",
    "        )\n",
    "        \n",
    "        # 过滤关键点\n",
    "        filtered_state_means, _ = kf.filter(keypoint_data)\n",
    "        filtered_keypoints[:, i*2:(i+1)*2] = filtered_state_means\n",
    "\n",
    "    return filtered_keypoints\n",
    "\n",
    "smoothed_keypoints = apply_kalman_filter(keypoints)"
   ]
  }
 ],
 "metadata": {
  "kernelspec": {
   "display_name": "torch",
   "language": "python",
   "name": "python3"
  },
  "language_info": {
   "codemirror_mode": {
    "name": "ipython",
    "version": 3
   },
   "file_extension": ".py",
   "mimetype": "text/x-python",
   "name": "python",
   "nbconvert_exporter": "python",
   "pygments_lexer": "ipython3",
   "version": "3.1.undefined"
  }
 },
 "nbformat": 4,
 "nbformat_minor": 2
}
