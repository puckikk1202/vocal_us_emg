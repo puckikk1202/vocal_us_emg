{
 "cells": [
  {
   "cell_type": "code",
   "execution_count": 1,
   "metadata": {},
   "outputs": [],
   "source": [
    "import pandas as pd\n",
    "import math\n",
    "import numpy as np"
   ]
  },
  {
   "cell_type": "code",
   "execution_count": 2,
   "metadata": {},
   "outputs": [],
   "source": [
    "def cal_length_value(x1, y1, x2, y2):\n",
    "    # x1, y1 = map(float, input('x1 y1: ').split())\n",
    "    # x2, y2 = map(float, input('x2 y2: ').split())\n",
    "    return ((x1 - x2)**2 + (y1 - y2)**2)**0.5\n",
    "\n",
    "def cal_area_value(ax, ay, bx, by, cx, cy):\n",
    "    # ax, ay = map(float, input('ax ay: ').split())\n",
    "    # bx, by = map(float, input('bx by: ').split())\n",
    "    # cx, cy = map(float, input('cx cy: ').split())\n",
    "\n",
    "    a = ((bx - cx)**2 + (by - cy)**2)**0.5\n",
    "    b = ((ax - cx)**2 + (ay - cy)**2)**0.5\n",
    "    c = ((ax - bx)**2 + (ay - by)**2)**0.5\n",
    "\n",
    "    s = (a + b + c) / 2\n",
    "    S = (s * (s - a) * (s - b) * (s - c))**0.5\n",
    "    return S\n",
    "\n",
    "def cal_angle_value(x1, y1, x2, y2, x3, y3):\n",
    "    a = np.array([x1, y1])\n",
    "    b = np.array([x2, y2])\n",
    "    c = np.array([x3, y3])\n",
    "\n",
    "    vec_a = a - b\n",
    "    vec_c = c - b\n",
    "\n",
    "    length_vec_a = np.linalg.norm(vec_a)\n",
    "    length_vec_c = np.linalg.norm(vec_c)\n",
    "    inner_product = np.inner(vec_a, vec_c)\n",
    "    if length_vec_a * length_vec_c == 0:\n",
    "        print(length_vec_a, length_vec_c)\n",
    "        degree = 0\n",
    "    else:\n",
    "        cos = inner_product / (length_vec_a * length_vec_c)\n",
    "\n",
    "        rad = np.arccos(cos)\n",
    "\n",
    "        degree = np.rad2deg(rad)\n",
    "    return degree"
   ]
  },
  {
   "cell_type": "code",
   "execution_count": 36,
   "metadata": {},
   "outputs": [],
   "source": [
    "anno = pd.read_csv('annotation_post.csv')\n",
    "subject_list = anno['name'].unique()"
   ]
  },
  {
   "cell_type": "code",
   "execution_count": 37,
   "metadata": {
    "scrolled": true
   },
   "outputs": [
    {
     "data": {
      "text/plain": [
       "array(['s01', 's02', 's03', 's04', 's05', 's06', 's07', 's08', 's11',\n",
       "       's12'], dtype=object)"
      ]
     },
     "execution_count": 37,
     "metadata": {},
     "output_type": "execute_result"
    }
   ],
   "source": [
    "subject_list"
   ]
  },
  {
   "cell_type": "code",
   "execution_count": 33,
   "metadata": {},
   "outputs": [],
   "source": [
    "new_subject_list = ['s01', 's02', 's03', 's04', 's05', 's06', 's07', 's08', 's11',\n",
    "       's12']"
   ]
  },
  {
   "cell_type": "code",
   "execution_count": 38,
   "metadata": {},
   "outputs": [
    {
     "name": "stdout",
     "output_type": "stream",
     "text": [
      "saved s01\n",
      "saved s02\n",
      "saved s03\n",
      "saved s04\n",
      "saved s05\n",
      "saved s06\n",
      "saved s07\n",
      "saved s08\n",
      "saved s11\n",
      "saved s12\n"
     ]
    }
   ],
   "source": [
    "for subject_name in new_subject_list:\n",
    "    # print('dealing ' + subject_name)\n",
    "    file_path = f\"us_annotation_March/{subject_name}_usraw_2.csv\"\n",
    "    df = pd.read_csv(file_path)\n",
    "    df = df.loc[df['0.000000000000000000e+00'] != 0]\n",
    "    df.columns = ['1x', '1y', '2x', '2y', '3x', '3y', '4x', '4y', '5x', '5y']\n",
    "    df_new = pd.DataFrame(columns=['pitch_name', 'section', 'round', 'length_value_left', 'length_value_right', 'area_value_left', 'area_value_right', 'angle_value_in', 'angle_value_out', 'frame_num'])\n",
    "    for index, row in df.iterrows():\n",
    "        idx = index + 1\n",
    "        length_value_left = cal_length_value(row['2x'], row['2y'], row['5x'], row['5y'])\n",
    "        length_value_right = cal_length_value(row['3x'], row['3y'], row['5x'], row['5y'])\n",
    "        area_value_left = cal_area_value(row['1x'], row['1y'], row['2x'], row['2y'], row['5x'], row['5y'])\n",
    "        area_value_right = cal_area_value(row['3x'], row['3y'], row['4x'], row['4y'], row['5x'], row['5y'])\n",
    "        angle_value_in = cal_angle_value(row['2x'], row['2y'], row['5x'], row['5y'], row['3x'], row['3y'])\n",
    "        angle_value_out = cal_angle_value(row['1x'], row['1y'], row['5x'], row['5y'], row['4x'], row['4y'])\n",
    "        # baseline\n",
    "        if idx == anno.loc[(anno['name'] == subject_name) & (anno['cond'] == 'baseline'), 'start'].values[0]:\n",
    "            # print(row['1x'])\n",
    "            df_new.loc[len(df_new.index)] = ['', 'baseline', 0, length_value_left, length_value_right, area_value_left, area_value_right, angle_value_in, angle_value_out, idx]\n",
    "        # before\n",
    "        elif idx >= anno.loc[(anno['name'] == subject_name) & (anno['cond'] == 'after practice'), 'start'].values[0]:\n",
    "            df_new.loc[len(df_new.index)] = ['', 'after practice', 4, length_value_left, length_value_right, area_value_left, area_value_right, angle_value_in, angle_value_out, idx]\n",
    "  # print(len(df))\n",
    "    df_new.to_csv(subject_name + '_processed_post.csv', index=False)\n",
    "    print('saved ' + subject_name)"
   ]
  },
  {
   "cell_type": "code",
   "execution_count": null,
   "metadata": {},
   "outputs": [],
   "source": []
  }
 ],
 "metadata": {
  "kernelspec": {
   "display_name": "Python 3 (ipykernel)",
   "language": "python",
   "name": "python3"
  },
  "language_info": {
   "codemirror_mode": {
    "name": "ipython",
    "version": 3
   },
   "file_extension": ".py",
   "mimetype": "text/x-python",
   "name": "python",
   "nbconvert_exporter": "python",
   "pygments_lexer": "ipython3",
   "version": "3.10.1"
  }
 },
 "nbformat": 4,
 "nbformat_minor": 2
}
